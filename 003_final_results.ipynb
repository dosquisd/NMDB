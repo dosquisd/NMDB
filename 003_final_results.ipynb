{
 "cells": [
  {
   "cell_type": "markdown",
   "id": "ad4a162b",
   "metadata": {},
   "source": [
    "# Final Results\n",
    "\n",
    "Recalculate metrics and plot them, but done at many more stations for each datetime. Basically, a more robust version of [002](./002_calc_some_metrics.ipynb)"
   ]
  },
  {
   "cell_type": "code",
   "execution_count": 2,
   "id": "3593cb6f",
   "metadata": {},
   "outputs": [],
   "source": [
    "import pandas as pd\n",
    "from pathlib import Path\n",
    "\n",
    "from typing import TypedDict, Optional\n",
    "\n",
    "from random import sample\n",
    "from utils.constants import WINDOW_SIZE, Events, NAN_THRESHOLD, EWM_ALPHA, datetimes\n",
    "from utils import (\n",
    "    load_data,\n",
    "    calc_metrics,\n",
    "    plot_metrics,\n",
    "    read_metrics_file,\n",
    "    plot_metrics_one,\n",
    ")\n",
    "\n",
    "import multiprocessing as mp\n",
    "\n",
    "import warnings\n",
    "\n",
    "\n",
    "warnings.filterwarnings(\"ignore\")"
   ]
  },
  {
   "cell_type": "code",
   "execution_count": 3,
   "id": "26c51148",
   "metadata": {},
   "outputs": [],
   "source": [
    "class StationsToChoose(TypedDict):\n",
    "    \"\"\"\n",
    "    Structure for station selection data.\n",
    "\n",
    "    Attributes:\n",
    "        stations: list[str]. Available station names for random sampling.\n",
    "        num_sample: int. Number of stations to sample from the available list.\n",
    "    \"\"\"\n",
    "\n",
    "    stations: list[str]\n",
    "    num_sample: int\n"
   ]
  },
  {
   "cell_type": "code",
   "execution_count": 4,
   "id": "cac7bb1c",
   "metadata": {},
   "outputs": [],
   "source": [
    "EVENT: Events = \"Forbush Decrease\"\n",
    "MAX_SAMPLES: int = 10  # Samples per date\n",
    "REPETITION: bool = True  # If True, it will repeat stations already calculated\n",
    "EWM: bool = True  # If True, it will calculate EWM metrics\n",
    "\n",
    "event_replace: str = EVENT.replace(\" \", \"\")"
   ]
  },
  {
   "cell_type": "markdown",
   "id": "0ed2641e",
   "metadata": {},
   "source": [
    "## Calculate metrics"
   ]
  },
  {
   "cell_type": "code",
   "execution_count": 5,
   "id": "b489ed12",
   "metadata": {},
   "outputs": [],
   "source": [
    "def get_valid_stations(\n",
    "    df: pd.DataFrame, threshold: Optional[float] = None\n",
    ") -> list[str]:\n",
    "    \"\"\"\n",
    "    Drop stations (columns) that have a high ratio of NaN values.\n",
    "    The DataFrame is the one with the data of the stations (all.txt).\n",
    "\n",
    "    Args:\n",
    "        df (pd.DataFrame): DataFrame with the stations data.\n",
    "        threshold (Optional[float]): Ratio of NaN values to consider a station invalid.\n",
    "            If None, it will use the global NAN_THRESHOLD.\n",
    "\n",
    "    Returns:\n",
    "        list[str]: List of valid station names (columns).\n",
    "    \"\"\"\n",
    "    if threshold is None:\n",
    "        threshold = NAN_THRESHOLD\n",
    "\n",
    "    nans_count = dict(\n",
    "        filter(\n",
    "            lambda x: x[1] > 0,\n",
    "            df.drop(columns=\"datetime\").isna().sum().to_dict().items(),\n",
    "        )\n",
    "    )\n",
    "\n",
    "    total = len(df)\n",
    "\n",
    "    # Drop columns (stations) that superates a nan ratio threshold\n",
    "    stations = list(\n",
    "        df.drop(\n",
    "            columns=list(\n",
    "                filter(\n",
    "                    lambda station: nans_count[station] / total >= threshold, nans_count\n",
    "                )\n",
    "            )\n",
    "        ).columns[1:]\n",
    "    )\n",
    "\n",
    "    return stations"
   ]
  },
  {
   "cell_type": "code",
   "execution_count": 6,
   "id": "5822326f",
   "metadata": {},
   "outputs": [],
   "source": [
    "stations: dict[str, list[str]] = {\n",
    "    date: get_valid_stations(\n",
    "        load_data(f\"./data/{event_replace}/{date}/all.txt\"),\n",
    "        threshold=NAN_THRESHOLD,\n",
    "    )\n",
    "    for date in datetimes\n",
    "}\n",
    "\n",
    "choosen_stations: dict[str, list[str]] = {\n",
    "    date: list(\n",
    "        map(\n",
    "            lambda filename: filename.name.strip().split(\"_\", 1)[0].upper(),\n",
    "            Path(f\"./data/{event_replace}/{date}\").glob(\"*.csv\"),\n",
    "        )\n",
    "    )\n",
    "    for date in datetimes\n",
    "}\n",
    "\n",
    "stations_to_choose: dict[str, StationsToChoose] = {\n",
    "    date: {\n",
    "        # Remove stations already calculated\n",
    "        # and those that are fixed to be calculated\n",
    "        \"stations\": list(\n",
    "            set(stations[date])\n",
    "            - set(choosen_stations[date])\n",
    "            - set(datetimes[date][\"stations\"].keys())\n",
    "        ),\n",
    "        # Final number of samples to choose\n",
    "        \"num_sample\": num_samples\n",
    "        if (\n",
    "            num_samples := MAX_SAMPLES\n",
    "            - len(choosen_stations[date])\n",
    "            - len(datetimes[date][\"stations\"].keys())\n",
    "        )\n",
    "        > 0\n",
    "        else 0,\n",
    "    }\n",
    "    for date in datetimes\n",
    "}\n",
    "\n",
    "# Without repetition of stations already calculated\n",
    "plot_stations = {\n",
    "    date: sample(items[\"stations\"], k=items[\"num_sample\"])\n",
    "    + list(datetimes[date][\"stations\"].keys())\n",
    "    for date, items in stations_to_choose.items()\n",
    "}\n",
    "\n",
    "# Here is added repetition of stations already calculated (if needed)\n",
    "if REPETITION:\n",
    "    for date in plot_stations:\n",
    "        plot_stations[date].extend(choosen_stations[date])\n",
    "\n",
    "        # Drop duplicates\n",
    "        plot_stations[date] = list(set(plot_stations[date]))"
   ]
  },
  {
   "cell_type": "code",
   "execution_count": 7,
   "id": "ae4968e9",
   "metadata": {},
   "outputs": [],
   "source": [
    "# 4 minutes approximate to calculate all metrics with my pc\n",
    "suffix = f\"ewm_alpha_{EWM_ALPHA}\" if EWM_ALPHA else \"\"\n",
    "\n",
    "\n",
    "def prepare_df(path: str) -> pd.DataFrame:\n",
    "    df = load_data(path).set_index(\"datetime\")\n",
    "    return df.ewm(alpha=EWM_ALPHA).mean() if EWM_ALPHA and EWM else df\n",
    "\n",
    "\n",
    "arguments = [\n",
    "    (\n",
    "        prepare_df(f\"./data/{event_replace}/{date}/all.txt\"),\n",
    "        station,\n",
    "        date,\n",
    "        suffix,\n",
    "    )\n",
    "    for date, stations in plot_stations.items()\n",
    "    for station in stations\n",
    "]\n",
    "\n",
    "with mp.Pool(processes=mp.cpu_count()) as pool:\n",
    "    results = pool.starmap(\n",
    "        calc_metrics,\n",
    "        arguments,\n",
    "    )\n"
   ]
  },
  {
   "cell_type": "markdown",
   "id": "a7a61c8e",
   "metadata": {},
   "source": [
    "## Plotting"
   ]
  },
  {
   "cell_type": "code",
   "execution_count": 5,
   "id": "847902fd",
   "metadata": {},
   "outputs": [],
   "source": [
    "plot_stations: dict[str, list[str]] = {\n",
    "    date: list(\n",
    "        set(\n",
    "            map(\n",
    "                # Get Station name from filename\n",
    "                lambda filename: filename.name.strip().split(\"_\", 1)[0].upper(),\n",
    "                Path(f\"./data/{event_replace}/{date}\").glob(\"*.csv\"),\n",
    "            )\n",
    "        )\n",
    "    )\n",
    "    for date in datetimes\n",
    "}"
   ]
  },
  {
   "cell_type": "code",
   "execution_count": 6,
   "id": "cd202280",
   "metadata": {},
   "outputs": [
    {
     "data": {
      "text/plain": [
       "{'2023-04-23': 10, '2024-03-24': 11, '2024-05-10': 11}"
      ]
     },
     "execution_count": 6,
     "metadata": {},
     "output_type": "execute_result"
    }
   ],
   "source": [
    "# Nice! Expected output\n",
    "dict(map(lambda x: (x, len(plot_stations[x])), plot_stations))"
   ]
  },
  {
   "cell_type": "code",
   "execution_count": 7,
   "id": "2f35ab38",
   "metadata": {},
   "outputs": [],
   "source": [
    "def _mpl_worker_init():\n",
    "    import os, tempfile  # noqa: E401\n",
    "    os.environ[\"MPLCONFIGDIR\"] = tempfile.mkdtemp(prefix=\"mplcache-\")"
   ]
  },
  {
   "cell_type": "markdown",
   "id": "0832522b",
   "metadata": {},
   "source": [
    "### Two differents plots"
   ]
  },
  {
   "cell_type": "code",
   "execution_count": 15,
   "id": "36e9fe6a",
   "metadata": {},
   "outputs": [],
   "source": [
    "def plot_metrics_wrapper(args_tuple: tuple[str, str, int]) -> None:\n",
    "    date, station, suffix = args_tuple\n",
    "\n",
    "    df = read_metrics_file(\n",
    "        event=event_replace,\n",
    "        date=date,\n",
    "        station=station,\n",
    "        window_size=WINDOW_SIZE,\n",
    "        datetime_cols={\"datetime\": \"\"},\n",
    "        suffix=f\"-ewm_alpha_{EWM_ALPHA}\" if EWM_ALPHA and EWM else \"\",\n",
    "    )\n",
    "\n",
    "    # Odd suffix: all metrics except \"lepel_ziv\"\n",
    "    if suffix % 2 == 1:\n",
    "        df = df.drop(columns=[\"lepel_ziv\"], errors=\"ignore\")\n",
    "        relevant_metrics = [\"*\"]\n",
    "\n",
    "    else:  # Even suffix: only \"lepel_ziv\"\n",
    "        relevant_metrics = [\"lepel_ziv\"]\n",
    "\n",
    "    if station in datetimes[date][\"stations\"] and datetimes[date][\"stations\"][station]:\n",
    "        min_datetime, max_datetime = datetimes[date][\"stations\"][station]\n",
    "    else:\n",
    "        min_datetime, max_datetime = datetimes[date][\"bounds\"]\n",
    "\n",
    "    plot_metrics(\n",
    "        window_size=WINDOW_SIZE,\n",
    "        relevant_metrics=relevant_metrics,\n",
    "        df=df,\n",
    "        event=event_replace,\n",
    "        date=date,\n",
    "        station=station,\n",
    "        min_datetime=min_datetime,\n",
    "        max_datetime=max_datetime,\n",
    "        freq_hours=2,\n",
    "        save_format=\"pdf\",\n",
    "        suffix=str(suffix),\n",
    "        show=False,\n",
    "    )\n",
    "\n",
    "\n",
    "with mp.Pool(processes=mp.cpu_count(), initializer=_mpl_worker_init) as pool:\n",
    "    arguments_plot = [\n",
    "        (date, station, suffix + 2 if EWM else suffix)\n",
    "        for date, stations in plot_stations.items()\n",
    "        for station in stations\n",
    "        for suffix in [1, 2]\n",
    "    ]\n",
    "\n",
    "    pool.map(plot_metrics_wrapper, arguments_plot)"
   ]
  },
  {
   "cell_type": "markdown",
   "id": "2bc594f3",
   "metadata": {},
   "source": [
    "### One plot\n",
    "\n",
    "TODO: Change color palette"
   ]
  },
  {
   "cell_type": "code",
   "execution_count": 8,
   "id": "2db4daf4",
   "metadata": {},
   "outputs": [
    {
     "ename": "RuntimeError",
     "evalue": "latex was not able to process the following string:\nb'Date'\n\nHere is the full command invocation and its output:\n\nlatex -interaction=nonstopmode --halt-on-error --output-directory=tmpv9ibwswk 692786374c4f4ec62c35370a0b997bfe9a3e4a3b6d981f90b79aa42ff2bfa672.tex\n\nThis is pdfTeX, Version 3.141592653-2.6-1.40.25 (TeX Live 2023) (preloaded format=latex)\n restricted \\write18 enabled.\nentering extended mode\n(./692786374c4f4ec62c35370a0b997bfe9a3e4a3b6d981f90b79aa42ff2bfa672.tex\nLaTeX2e <2022-11-01> patch level 1\nL3 programming layer <2023-02-22>)\n! Emergency stop.\n<*> ...b997bfe9a3e4a3b6d981f90b79aa42ff2bfa672.tex\n                                                  \nNo pages of output.\nTranscript written on tmpv9ibwswk/692786374c4f4ec62c35370a0b997bfe9a3e4a3b6d981\nf90b79aa42ff2bfa672.log.\n\n\n",
     "output_type": "error",
     "traceback": [
      "\u001b[31m---------------------------------------------------------------------------\u001b[39m",
      "\u001b[31mRemoteTraceback\u001b[39m                           Traceback (most recent call last)",
      "\u001b[31mRemoteTraceback\u001b[39m: \n\"\"\"\nTraceback (most recent call last):\n  File \"/home/juand/.local/share/uv/python/cpython-3.12.10-linux-x86_64-gnu/lib/python3.12/multiprocessing/pool.py\", line 125, in worker\n    result = (True, func(*args, **kwds))\n                    ^^^^^^^^^^^^^^^^^^^\n  File \"/home/juand/.local/share/uv/python/cpython-3.12.10-linux-x86_64-gnu/lib/python3.12/multiprocessing/pool.py\", line 48, in mapstar\n    return list(map(*args))\n           ^^^^^^^^^^^^^^^^\n  File \"/tmp/ipykernel_82761/1055794078.py\", line 18, in plot_metrics_one_wrapper\n    plot_metrics_one(\n  File \"/home/juand/Documents/vscode/DavidSierra/NMDB/utils/plots.py\", line 369, in plot_metrics_one\n    plt.savefig(\n  File \"/home/juand/Documents/vscode/DavidSierra/NMDB/.venv/lib/python3.12/site-packages/matplotlib/pyplot.py\", line 1251, in savefig\n    res = fig.savefig(*args, **kwargs)  # type: ignore[func-returns-value]\n          ^^^^^^^^^^^^^^^^^^^^^^^^^^^^\n  File \"/home/juand/Documents/vscode/DavidSierra/NMDB/.venv/lib/python3.12/site-packages/matplotlib/figure.py\", line 3490, in savefig\n    self.canvas.print_figure(fname, **kwargs)\n  File \"/home/juand/Documents/vscode/DavidSierra/NMDB/.venv/lib/python3.12/site-packages/matplotlib/backend_bases.py\", line 2157, in print_figure\n    self.figure.draw(renderer)\n  File \"/home/juand/Documents/vscode/DavidSierra/NMDB/.venv/lib/python3.12/site-packages/matplotlib/artist.py\", line 94, in draw_wrapper\n    result = draw(artist, renderer, *args, **kwargs)\n             ^^^^^^^^^^^^^^^^^^^^^^^^^^^^^^^^^^^^^^^\n  File \"/home/juand/Documents/vscode/DavidSierra/NMDB/.venv/lib/python3.12/site-packages/matplotlib/artist.py\", line 71, in draw_wrapper\n    return draw(artist, renderer)\n           ^^^^^^^^^^^^^^^^^^^^^^\n  File \"/home/juand/Documents/vscode/DavidSierra/NMDB/.venv/lib/python3.12/site-packages/matplotlib/figure.py\", line 3257, in draw\n    mimage._draw_list_compositing_images(\n  File \"/home/juand/Documents/vscode/DavidSierra/NMDB/.venv/lib/python3.12/site-packages/matplotlib/image.py\", line 134, in _draw_list_compositing_images\n    a.draw(renderer)\n  File \"/home/juand/Documents/vscode/DavidSierra/NMDB/.venv/lib/python3.12/site-packages/matplotlib/artist.py\", line 71, in draw_wrapper\n    return draw(artist, renderer)\n           ^^^^^^^^^^^^^^^^^^^^^^\n  File \"/home/juand/Documents/vscode/DavidSierra/NMDB/.venv/lib/python3.12/site-packages/matplotlib/axes/_base.py\", line 3226, in draw\n    mimage._draw_list_compositing_images(\n  File \"/home/juand/Documents/vscode/DavidSierra/NMDB/.venv/lib/python3.12/site-packages/matplotlib/image.py\", line 134, in _draw_list_compositing_images\n    a.draw(renderer)\n  File \"/home/juand/Documents/vscode/DavidSierra/NMDB/.venv/lib/python3.12/site-packages/matplotlib/artist.py\", line 71, in draw_wrapper\n    return draw(artist, renderer)\n           ^^^^^^^^^^^^^^^^^^^^^^\n  File \"/home/juand/Documents/vscode/DavidSierra/NMDB/.venv/lib/python3.12/site-packages/matplotlib/axis.py\", line 1412, in draw\n    self.label.draw(renderer)\n  File \"/home/juand/Documents/vscode/DavidSierra/NMDB/.venv/lib/python3.12/site-packages/matplotlib/artist.py\", line 71, in draw_wrapper\n    return draw(artist, renderer)\n           ^^^^^^^^^^^^^^^^^^^^^^\n  File \"/home/juand/Documents/vscode/DavidSierra/NMDB/.venv/lib/python3.12/site-packages/matplotlib/text.py\", line 752, in draw\n    bbox, info, descent = self._get_layout(renderer)\n                          ^^^^^^^^^^^^^^^^^^^^^^^^^^\n  File \"/home/juand/Documents/vscode/DavidSierra/NMDB/.venv/lib/python3.12/site-packages/matplotlib/text.py\", line 382, in _get_layout\n    w, h, d = _get_text_metrics_with_cache(\n              ^^^^^^^^^^^^^^^^^^^^^^^^^^^^^\n  File \"/home/juand/Documents/vscode/DavidSierra/NMDB/.venv/lib/python3.12/site-packages/matplotlib/text.py\", line 69, in _get_text_metrics_with_cache\n    return _get_text_metrics_with_cache_impl(\n           ^^^^^^^^^^^^^^^^^^^^^^^^^^^^^^^^^^\n  File \"/home/juand/Documents/vscode/DavidSierra/NMDB/.venv/lib/python3.12/site-packages/matplotlib/text.py\", line 77, in _get_text_metrics_with_cache_impl\n    return renderer_ref().get_text_width_height_descent(text, fontprop, ismath)\n           ^^^^^^^^^^^^^^^^^^^^^^^^^^^^^^^^^^^^^^^^^^^^^^^^^^^^^^^^^^^^^^^^^^^^\n  File \"/home/juand/Documents/vscode/DavidSierra/NMDB/.venv/lib/python3.12/site-packages/matplotlib/backends/_backend_pdf_ps.py\", line 150, in get_text_width_height_descent\n    return super().get_text_width_height_descent(s, prop, ismath)\n           ^^^^^^^^^^^^^^^^^^^^^^^^^^^^^^^^^^^^^^^^^^^^^^^^^^^^^^\n  File \"/home/juand/Documents/vscode/DavidSierra/NMDB/.venv/lib/python3.12/site-packages/matplotlib/backend_bases.py\", line 566, in get_text_width_height_descent\n    return self.get_texmanager().get_text_width_height_descent(\n           ^^^^^^^^^^^^^^^^^^^^^^^^^^^^^^^^^^^^^^^^^^^^^^^^^^^^\n  File \"/home/juand/Documents/vscode/DavidSierra/NMDB/.venv/lib/python3.12/site-packages/matplotlib/texmanager.py\", line 363, in get_text_width_height_descent\n    dvifile = cls.make_dvi(tex, fontsize)\n              ^^^^^^^^^^^^^^^^^^^^^^^^^^^\n  File \"/home/juand/Documents/vscode/DavidSierra/NMDB/.venv/lib/python3.12/site-packages/matplotlib/texmanager.py\", line 295, in make_dvi\n    cls._run_checked_subprocess(\n  File \"/home/juand/Documents/vscode/DavidSierra/NMDB/.venv/lib/python3.12/site-packages/matplotlib/texmanager.py\", line 258, in _run_checked_subprocess\n    raise RuntimeError(\nRuntimeError: latex was not able to process the following string:\nb'Date'\n\nHere is the full command invocation and its output:\n\nlatex -interaction=nonstopmode --halt-on-error --output-directory=tmpv9ibwswk 692786374c4f4ec62c35370a0b997bfe9a3e4a3b6d981f90b79aa42ff2bfa672.tex\n\nThis is pdfTeX, Version 3.141592653-2.6-1.40.25 (TeX Live 2023) (preloaded format=latex)\n restricted \\write18 enabled.\nentering extended mode\n(./692786374c4f4ec62c35370a0b997bfe9a3e4a3b6d981f90b79aa42ff2bfa672.tex\nLaTeX2e <2022-11-01> patch level 1\nL3 programming layer <2023-02-22>)\n! Emergency stop.\n<*> ...b997bfe9a3e4a3b6d981f90b79aa42ff2bfa672.tex\n                                                  \nNo pages of output.\nTranscript written on tmpv9ibwswk/692786374c4f4ec62c35370a0b997bfe9a3e4a3b6d981\nf90b79aa42ff2bfa672.log.\n\n\n\n\"\"\"",
      "\nThe above exception was the direct cause of the following exception:\n",
      "\u001b[31mRuntimeError\u001b[39m                              Traceback (most recent call last)",
      "\u001b[36mCell\u001b[39m\u001b[36m \u001b[39m\u001b[32mIn[8]\u001b[39m\u001b[32m, line 40\u001b[39m\n\u001b[32m     33\u001b[39m \u001b[38;5;28;01mwith\u001b[39;00m mp.Pool(processes=mp.cpu_count(), initializer=_mpl_worker_init) \u001b[38;5;28;01mas\u001b[39;00m pool:\n\u001b[32m     34\u001b[39m     arguments_plot = [\n\u001b[32m     35\u001b[39m         (date, station)\n\u001b[32m     36\u001b[39m         \u001b[38;5;28;01mfor\u001b[39;00m date, stations \u001b[38;5;129;01min\u001b[39;00m plot_stations.items()\n\u001b[32m     37\u001b[39m         \u001b[38;5;28;01mfor\u001b[39;00m station \u001b[38;5;129;01min\u001b[39;00m stations\n\u001b[32m     38\u001b[39m     ]\n\u001b[32m---> \u001b[39m\u001b[32m40\u001b[39m     \u001b[43mpool\u001b[49m\u001b[43m.\u001b[49m\u001b[43mmap\u001b[49m\u001b[43m(\u001b[49m\u001b[43mplot_metrics_one_wrapper\u001b[49m\u001b[43m,\u001b[49m\u001b[43m \u001b[49m\u001b[43marguments_plot\u001b[49m\u001b[43m)\u001b[49m\n",
      "\u001b[36mFile \u001b[39m\u001b[32m~/.local/share/uv/python/cpython-3.12.10-linux-x86_64-gnu/lib/python3.12/multiprocessing/pool.py:367\u001b[39m, in \u001b[36mPool.map\u001b[39m\u001b[34m(self, func, iterable, chunksize)\u001b[39m\n\u001b[32m    362\u001b[39m \u001b[38;5;28;01mdef\u001b[39;00m\u001b[38;5;250m \u001b[39m\u001b[34mmap\u001b[39m(\u001b[38;5;28mself\u001b[39m, func, iterable, chunksize=\u001b[38;5;28;01mNone\u001b[39;00m):\n\u001b[32m    363\u001b[39m \u001b[38;5;250m    \u001b[39m\u001b[33;03m'''\u001b[39;00m\n\u001b[32m    364\u001b[39m \u001b[33;03m    Apply `func` to each element in `iterable`, collecting the results\u001b[39;00m\n\u001b[32m    365\u001b[39m \u001b[33;03m    in a list that is returned.\u001b[39;00m\n\u001b[32m    366\u001b[39m \u001b[33;03m    '''\u001b[39;00m\n\u001b[32m--> \u001b[39m\u001b[32m367\u001b[39m     \u001b[38;5;28;01mreturn\u001b[39;00m \u001b[38;5;28;43mself\u001b[39;49m\u001b[43m.\u001b[49m\u001b[43m_map_async\u001b[49m\u001b[43m(\u001b[49m\u001b[43mfunc\u001b[49m\u001b[43m,\u001b[49m\u001b[43m \u001b[49m\u001b[43miterable\u001b[49m\u001b[43m,\u001b[49m\u001b[43m \u001b[49m\u001b[43mmapstar\u001b[49m\u001b[43m,\u001b[49m\u001b[43m \u001b[49m\u001b[43mchunksize\u001b[49m\u001b[43m)\u001b[49m\u001b[43m.\u001b[49m\u001b[43mget\u001b[49m\u001b[43m(\u001b[49m\u001b[43m)\u001b[49m\n",
      "\u001b[36mFile \u001b[39m\u001b[32m~/.local/share/uv/python/cpython-3.12.10-linux-x86_64-gnu/lib/python3.12/multiprocessing/pool.py:774\u001b[39m, in \u001b[36mApplyResult.get\u001b[39m\u001b[34m(self, timeout)\u001b[39m\n\u001b[32m    772\u001b[39m     \u001b[38;5;28;01mreturn\u001b[39;00m \u001b[38;5;28mself\u001b[39m._value\n\u001b[32m    773\u001b[39m \u001b[38;5;28;01melse\u001b[39;00m:\n\u001b[32m--> \u001b[39m\u001b[32m774\u001b[39m     \u001b[38;5;28;01mraise\u001b[39;00m \u001b[38;5;28mself\u001b[39m._value\n",
      "\u001b[31mRuntimeError\u001b[39m: latex was not able to process the following string:\nb'Date'\n\nHere is the full command invocation and its output:\n\nlatex -interaction=nonstopmode --halt-on-error --output-directory=tmpv9ibwswk 692786374c4f4ec62c35370a0b997bfe9a3e4a3b6d981f90b79aa42ff2bfa672.tex\n\nThis is pdfTeX, Version 3.141592653-2.6-1.40.25 (TeX Live 2023) (preloaded format=latex)\n restricted \\write18 enabled.\nentering extended mode\n(./692786374c4f4ec62c35370a0b997bfe9a3e4a3b6d981f90b79aa42ff2bfa672.tex\nLaTeX2e <2022-11-01> patch level 1\nL3 programming layer <2023-02-22>)\n! Emergency stop.\n<*> ...b997bfe9a3e4a3b6d981f90b79aa42ff2bfa672.tex\n                                                  \nNo pages of output.\nTranscript written on tmpv9ibwswk/692786374c4f4ec62c35370a0b997bfe9a3e4a3b6d981\nf90b79aa42ff2bfa672.log.\n\n\n"
     ]
    }
   ],
   "source": [
    "def plot_metrics_one_wrapper(args_tuple: tuple[str, str]) -> None:\n",
    "    date, station = args_tuple\n",
    "\n",
    "    df = read_metrics_file(\n",
    "        event=event_replace,\n",
    "        date=date,\n",
    "        station=station,\n",
    "        window_size=WINDOW_SIZE,\n",
    "        datetime_cols={\"datetime\": \"\"},\n",
    "        suffix=f\"-ewm_alpha_{EWM_ALPHA}\" if EWM_ALPHA and EWM else \"\",\n",
    "    )\n",
    "\n",
    "    if station in datetimes[date][\"stations\"] and datetimes[date][\"stations\"][station]:\n",
    "        min_datetime, max_datetime = datetimes[date][\"stations\"][station]\n",
    "    else:\n",
    "        min_datetime, max_datetime = datetimes[date][\"bounds\"]\n",
    "\n",
    "    plot_metrics_one(\n",
    "        window_size=WINDOW_SIZE,\n",
    "        relevant_metrics=None,\n",
    "        df=df,\n",
    "        event=event_replace,\n",
    "        date=date,\n",
    "        station=station,\n",
    "        min_datetime=min_datetime,\n",
    "        max_datetime=max_datetime,\n",
    "        freq_hours=2,\n",
    "        save_format=\"pdf\",\n",
    "        show=False,\n",
    "    )\n",
    "\n",
    "\n",
    "with mp.Pool(processes=mp.cpu_count(), initializer=_mpl_worker_init) as pool:\n",
    "    arguments_plot = [\n",
    "        (date, station)\n",
    "        for date, stations in plot_stations.items()\n",
    "        for station in stations\n",
    "    ]\n",
    "\n",
    "    pool.map(plot_metrics_one_wrapper, arguments_plot)"
   ]
  }
 ],
 "metadata": {
  "kernelspec": {
   "display_name": "nmdb",
   "language": "python",
   "name": "python3"
  },
  "language_info": {
   "codemirror_mode": {
    "name": "ipython",
    "version": 3
   },
   "file_extension": ".py",
   "mimetype": "text/x-python",
   "name": "python",
   "nbconvert_exporter": "python",
   "pygments_lexer": "ipython3",
   "version": "3.12.10"
  }
 },
 "nbformat": 4,
 "nbformat_minor": 5
}
