{
 "cells": [
  {
   "cell_type": "code",
   "execution_count": 2,
   "id": "02f68b67",
   "metadata": {},
   "outputs": [],
   "source": [
    "import os.path\n",
    "from pathlib import Path\n",
    "\n",
    "import matplotlib.pyplot as plt\n",
    "import pandas as pd\n",
    "\n",
    "from utils.constants import Events, datetimes\n",
    "from utils.plots import plot"
   ]
  },
  {
   "cell_type": "code",
   "execution_count": 3,
   "id": "01bbd8fa",
   "metadata": {},
   "outputs": [],
   "source": [
    "EVENT: Events = \"Forbush Decrease\"\n",
    "event_replace = EVENT.replace(\" \", \"\")\n",
    "series_figure_path = \"./figures/{event}/{date}/series\""
   ]
  },
  {
   "cell_type": "markdown",
   "id": "94422f12",
   "metadata": {},
   "source": [
    "## Plot both (Original and EWM) separately"
   ]
  },
  {
   "cell_type": "code",
   "execution_count": 25,
   "id": "5222ffbf",
   "metadata": {},
   "outputs": [],
   "source": [
    "paths = {\n",
    "    date: list(Path(f\"./data/ForbushDecrease/{date}\").glob(\"*.csv\"))\n",
    "    for date in datetimes\n",
    "}"
   ]
  },
  {
   "cell_type": "code",
   "execution_count": 29,
   "id": "30b9a7bf",
   "metadata": {},
   "outputs": [],
   "source": [
    "for date, path in paths.items():\n",
    "    for file in path:\n",
    "        # Extract metadata from filename\n",
    "        splits = file.stem.split(\"-\")\n",
    "        station_name = splits[0].split(\"_\", 1)[0].upper()\n",
    "        window_size = int(splits[1].split(\"_\", 1)[1])\n",
    "        ewm_alpha = splits[2].split(\"_\")[2] if len(splits) == 3 else None\n",
    "        bounds = pd.to_datetime(datetimes[date][\"stations\"][station_name])\n",
    "\n",
    "        # Load data\n",
    "        df = pd.read_csv(file, parse_dates=[\"datetime\"])\n",
    "\n",
    "        # Plot data\n",
    "        fig, ax = plt.subplots(figsize=(14, 6))\n",
    "\n",
    "        # Time Series data\n",
    "        plot(df, ax=ax, freq_hours=2, are_metrics=False)\n",
    "\n",
    "        # Vertical lines for event bounds\n",
    "        ax.axvline(bounds[0], color=\"black\", linestyle=\"--\")\n",
    "        ax.axvline(bounds[1], color=\"black\", linestyle=\"--\")\n",
    "\n",
    "        # Title and save path\n",
    "        if ewm_alpha:\n",
    "            title = (\n",
    "                rf\"{station_name} Station | {EVENT} | EWM $\\alpha={ewm_alpha}$\"\n",
    "            )\n",
    "            ewm_alpha_suffix = f\"ewm_alpha_{ewm_alpha}\"\n",
    "        else:\n",
    "            title = f\"{station_name} Station | {EVENT}\"\n",
    "            ewm_alpha_suffix = \"\"\n",
    "\n",
    "        ax.set(title=title, ylabel=\"Count\")\n",
    "        save_path = series_figure_path.format(event=event_replace, date=date)\n",
    "        if not os.path.exists(save_path):\n",
    "            os.makedirs(save_path, exist_ok=True)\n",
    "\n",
    "        plt.savefig(\n",
    "            f\"{save_path}/{station_name}{f'-{ewm_alpha_suffix}' if ewm_alpha_suffix else ''}.pdf\"\n",
    "        )\n",
    "        plt.close()"
   ]
  },
  {
   "cell_type": "markdown",
   "id": "671fa092",
   "metadata": {},
   "source": [
    "## Plot both in one (EWM $\\alpha$ could be different just for plots)"
   ]
  },
  {
   "cell_type": "code",
   "execution_count": 31,
   "id": "6eac8946",
   "metadata": {},
   "outputs": [],
   "source": [
    "paths_original = {\n",
    "    date: list(\n",
    "        Path(f\"./data/ForbushDecrease/{date}\").glob(\"*-windowsize_130.csv\")\n",
    "    )\n",
    "    for date in datetimes\n",
    "}\n",
    "\n",
    "ewm_alpha = 0.15"
   ]
  },
  {
   "cell_type": "code",
   "execution_count": 32,
   "id": "8c2a781b",
   "metadata": {},
   "outputs": [],
   "source": [
    "for date, path in paths_original.items():\n",
    "    for file in path:\n",
    "        # Extract metadata from filename\n",
    "        splits = file.stem.split(\"-\")\n",
    "        station_name = splits[0].split(\"_\", 1)[0].upper()\n",
    "        window_size = int(splits[1].split(\"_\", 1)[1])\n",
    "        bounds = pd.to_datetime(datetimes[date][\"stations\"][station_name])\n",
    "\n",
    "        # Load data\n",
    "        df = pd.read_csv(file, parse_dates=[\"datetime\"])\n",
    "\n",
    "        # Plot data\n",
    "        fig, ax = plt.subplots(figsize=(14, 6))\n",
    "\n",
    "        # Time Series data\n",
    "        plot(\n",
    "            df,\n",
    "            ax=ax,\n",
    "            freq_hours=2,\n",
    "            are_metrics=False,\n",
    "            kwargs_metrics_false={\"label\": \"original\"},\n",
    "        )\n",
    "\n",
    "        # EWM data\n",
    "        df_ewm = df.copy()\n",
    "        df_ewm[\"value\"] = df_ewm[\"value\"].ewm(alpha=ewm_alpha).mean()\n",
    "        plot(\n",
    "            df_ewm,\n",
    "            ax=ax,\n",
    "            are_metrics=False,\n",
    "            kwargs_metrics_false={\n",
    "                \"label\": \"EWM\",\n",
    "                \"color\": \"tab:orange\",\n",
    "            },\n",
    "        )\n",
    "\n",
    "        # Vertical lines for event bounds\n",
    "        ax.axvline(bounds[0], color=\"black\", linestyle=\"--\")\n",
    "        ax.axvline(bounds[1], color=\"black\", linestyle=\"--\")\n",
    "\n",
    "        title = rf\"{station_name} Station | {EVENT} | EWM $\\alpha={ewm_alpha}$\"\n",
    "        ax.set(title=title, ylabel=\"Count\")\n",
    "\n",
    "        save_path = series_figure_path.format(event=event_replace, date=date)\n",
    "        if not os.path.exists(save_path):\n",
    "            os.makedirs(save_path, exist_ok=True)\n",
    "\n",
    "        plt.savefig(f\"{save_path}/{station_name}-both.pdf\")\n",
    "        plt.close()"
   ]
  }
 ],
 "metadata": {
  "kernelspec": {
   "display_name": "nmdb",
   "language": "python",
   "name": "python3"
  },
  "language_info": {
   "codemirror_mode": {
    "name": "ipython",
    "version": 3
   },
   "file_extension": ".py",
   "mimetype": "text/x-python",
   "name": "python",
   "nbconvert_exporter": "python",
   "pygments_lexer": "ipython3",
   "version": "3.12.10"
  }
 },
 "nbformat": 4,
 "nbformat_minor": 5
}
