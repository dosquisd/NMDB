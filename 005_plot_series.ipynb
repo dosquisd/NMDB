{
 "cells": [
  {
   "cell_type": "code",
   "execution_count": 2,
   "id": "02f68b67",
   "metadata": {},
   "outputs": [
    {
     "name": "stderr",
     "output_type": "stream",
     "text": [
      "/home/juand/Documents/vscode/DavidSierra/NMDB/.venv/lib/python3.12/site-packages/nolds/datasets.py:9: UserWarning: pkg_resources is deprecated as an API. See https://setuptools.pypa.io/en/latest/pkg_resources.html. The pkg_resources package is slated for removal as early as 2025-11-30. Refrain from using this package or pin to Setuptools<81.\n",
      "  import pkg_resources\n"
     ]
    }
   ],
   "source": [
    "import os.path\n",
    "from pathlib import Path\n",
    "\n",
    "import pandas as pd\n",
    "import matplotlib.pyplot as plt\n",
    "\n",
    "from utils.plots import plot\n",
    "from utils.constants import Events, datetimes"
   ]
  },
  {
   "cell_type": "code",
   "execution_count": 3,
   "id": "01bbd8fa",
   "metadata": {},
   "outputs": [],
   "source": [
    "EVENT: Events = \"Forbush Decrease\"\n",
    "event_replace = EVENT.replace(\" \", \"\")\n",
    "series_figure_path = \"./figures/{event}/{date}/series\""
   ]
  },
  {
   "cell_type": "code",
   "execution_count": 4,
   "id": "5222ffbf",
   "metadata": {},
   "outputs": [],
   "source": [
    "paths = {\n",
    "    date: list(Path(f\"./data/ForbushDecrease/{date}\").glob(\"*.csv\"))\n",
    "    for date in datetimes\n",
    "}"
   ]
  },
  {
   "cell_type": "code",
   "execution_count": 5,
   "id": "30b9a7bf",
   "metadata": {},
   "outputs": [],
   "source": [
    "for date, path in paths.items():\n",
    "    for file in path:\n",
    "        # Extract metadata from filename\n",
    "        splits = file.stem.split(\"-\")\n",
    "        station_name = splits[0].split(\"_\", 1)[0].upper()\n",
    "        window_size = int(splits[1].split(\"_\", 1)[1])\n",
    "        ewm_alpha = splits[2].split(\"_\")[2] if len(splits) == 3 else None\n",
    "        bounds = pd.to_datetime(datetimes[date][\"stations\"][station_name])\n",
    "\n",
    "        # Load data\n",
    "        df = pd.read_csv(file, parse_dates=[\"datetime\"])\n",
    "\n",
    "        # Plot data\n",
    "        fig, ax = plt.subplots(figsize=(14, 10))\n",
    "\n",
    "        # Time Series data\n",
    "        plot(df, ax=ax, freq_hours=1, are_metrics=False)\n",
    "\n",
    "        # Vertical lines for event bounds\n",
    "        ax.axvline(bounds[0], color=\"black\", linestyle=\"--\")\n",
    "        ax.axvline(bounds[1], color=\"black\", linestyle=\"--\")\n",
    "\n",
    "        # Title\n",
    "        if ewm_alpha:\n",
    "            title = rf\"{station_name} Station | {EVENT} | EWM $\\alpha={ewm_alpha}$\"\n",
    "            ewm_alpha_suffix = f\"ewm_alpha_{ewm_alpha}\"\n",
    "        else:\n",
    "            title = f\"{station_name} Station | {EVENT}\"\n",
    "            ewm_alpha_suffix = \"\"\n",
    "\n",
    "        ax.set(title=title)\n",
    "        save_path = series_figure_path.format(event=event_replace, date=date)\n",
    "        if not os.path.exists(save_path):\n",
    "            os.makedirs(save_path, exist_ok=True)\n",
    "\n",
    "        plt.savefig(\n",
    "            f\"{save_path}/{station_name}{f'-{ewm_alpha_suffix}' if ewm_alpha_suffix else ''}.pdf\"\n",
    "        )\n",
    "        plt.close()"
   ]
  },
  {
   "cell_type": "code",
   "execution_count": null,
   "id": "bc6d91dd",
   "metadata": {},
   "outputs": [],
   "source": []
  }
 ],
 "metadata": {
  "kernelspec": {
   "display_name": "nmdb",
   "language": "python",
   "name": "python3"
  },
  "language_info": {
   "codemirror_mode": {
    "name": "ipython",
    "version": 3
   },
   "file_extension": ".py",
   "mimetype": "text/x-python",
   "name": "python",
   "nbconvert_exporter": "python",
   "pygments_lexer": "ipython3",
   "version": "3.12.10"
  }
 },
 "nbformat": 4,
 "nbformat_minor": 5
}
