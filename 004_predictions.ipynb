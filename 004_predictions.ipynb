{
 "cells": [
  {
   "cell_type": "code",
   "execution_count": 2,
   "id": "d0ecd0fe",
   "metadata": {},
   "outputs": [],
   "source": [
    "import pandas as pd\n",
    "from pathlib import Path\n",
    "\n",
    "from typing import TypedDict\n",
    "\n",
    "from utils import read_metrics_file\n",
    "from utils.constants import WINDOW_SIZE, Events, EWM_ALPHA, METRICS, datetimes\n",
    "\n",
    "import multiprocessing as mp\n",
    "\n",
    "import warnings\n",
    "\n",
    "\n",
    "warnings.filterwarnings(\"ignore\")"
   ]
  },
  {
   "cell_type": "code",
   "execution_count": 3,
   "id": "3a905340",
   "metadata": {},
   "outputs": [],
   "source": [
    "class MetricsSummary(TypedDict):\n",
    "    \"\"\"\n",
    "    Structure for metrics summary data.\n",
    "\n",
    "    Attributes:\n",
    "        event (str): The name of the event.\n",
    "        date (str): The date of the event.\n",
    "        station (str): The station name.\n",
    "        metric (str): The name of the calculated metric.\n",
    "        index (str): The calculated metrics for the station.\n",
    "    \"\"\"\n",
    "\n",
    "    event: str\n",
    "    date: str\n",
    "    station: str\n",
    "    metric: str\n",
    "    index: str\n",
    "\n",
    "\n",
    "EVENT: Events = \"Forbush Decrease\"\n",
    "MAX_SAMPLES: int = 10  # Samples per date\n",
    "REPETITION: bool = True  # If True, it will repeat stations already calculated\n",
    "EWM: bool = True  # If True, it will calculate EWM metrics\n",
    "\n",
    "event_replace: str = EVENT.replace(\" \", \"\")"
   ]
  },
  {
   "cell_type": "code",
   "execution_count": 4,
   "id": "ff871c98",
   "metadata": {},
   "outputs": [],
   "source": [
    "plot_stations: dict[str, list[str]] = {\n",
    "    date: list(\n",
    "        set(\n",
    "            map(\n",
    "                # Get Station name from filename\n",
    "                lambda filename: filename.name.strip().split(\"_\", 1)[0].upper(),\n",
    "                Path(f\"./data/{event_replace}/{date}\").glob(\"*.csv\"),\n",
    "            )\n",
    "        )\n",
    "    )\n",
    "    for date in datetimes\n",
    "}"
   ]
  },
  {
   "cell_type": "markdown",
   "id": "92306f77",
   "metadata": {},
   "source": [
    "## Summary"
   ]
  },
  {
   "cell_type": "code",
   "execution_count": 5,
   "id": "e5c39136",
   "metadata": {},
   "outputs": [],
   "source": [
    "def valid_interval(\n",
    "    event: Events,\n",
    "    date: str,\n",
    "    station: str,\n",
    "    data: pd.DataFrame = None,\n",
    ") -> pd.DataFrame:\n",
    "    if data is None:\n",
    "        suffix = f\"-ewm_alpha_{EWM_ALPHA}\" if EWM_ALPHA and EWM else \"\"\n",
    "        data = read_metrics_file(\n",
    "            event,\n",
    "            date,\n",
    "            station,\n",
    "            WINDOW_SIZE,\n",
    "            datetime_cols={\"datetime\": None},\n",
    "            suffix=suffix,\n",
    "        ).set_index(\"datetime\")\n",
    "\n",
    "    if station in datetimes[date][\"stations\"] and datetimes[date][\"stations\"][station]:\n",
    "        max_datetime = datetimes[date][\"stations\"][station][1]\n",
    "    else:\n",
    "        max_datetime = datetimes[date][\"bounds\"][1]\n",
    "\n",
    "    data = data[(data[\"window_shape\"] == WINDOW_SIZE) & (data.index <= max_datetime)]\n",
    "    return data\n",
    "\n",
    "\n",
    "def process_derivatives(\n",
    "    event: Events, date: str, station: str, percentil: int = 0.95\n",
    ") -> list[MetricsSummary]:\n",
    "    assert 0 < percentil < 1.0, \"Percentil must be between 0.0 and 1.0\"\n",
    "\n",
    "    suffix = f\"-ewm_alpha_{EWM_ALPHA}\" if EWM_ALPHA and EWM else \"\"\n",
    "    data = read_metrics_file(\n",
    "        event,\n",
    "        date,\n",
    "        station,\n",
    "        WINDOW_SIZE,\n",
    "        datetime_cols={\"datetime\": None},\n",
    "        suffix=suffix,\n",
    "    ).set_index(\"datetime\")\n",
    "\n",
    "    metrics_columns = list(filter(lambda col: col in METRICS, data.columns))\n",
    "    metrics_columns += [\"value\"]\n",
    "\n",
    "    valid_indexes = valid_interval(event, date, station, data).index\n",
    "    diff = data[metrics_columns].diff()\n",
    "    interest_df = diff[diff.index.isin(valid_indexes)]\n",
    "    quantiles = interest_df.quantile(percentil)\n",
    "\n",
    "    results: list[MetricsSummary] = []\n",
    "    for col in metrics_columns:\n",
    "        quantil = quantiles[col]\n",
    "        points = interest_df[interest_df[col] >= quantil][col]\n",
    "        if len(points) < 0:\n",
    "            continue\n",
    "\n",
    "        interest_index = points.idxmax()  # Maybe this operation can be changed\n",
    "        results.append(\n",
    "            {\n",
    "                \"event\": event,\n",
    "                \"date\": date,\n",
    "                \"station\": station,\n",
    "                \"metric\": col,\n",
    "                \"index\": str(interest_index),\n",
    "            }\n",
    "        )\n",
    "\n",
    "    return results"
   ]
  },
  {
   "cell_type": "code",
   "execution_count": 6,
   "id": "431f0445",
   "metadata": {},
   "outputs": [],
   "source": [
    "percentil: float = 0.9\n",
    "\n",
    "arguments: list[tuple[Events, str, str, int]] = list(\n",
    "    map(\n",
    "        lambda date, station: (\"Forbush Decrease\", date, station, percentil),\n",
    "        *zip(\n",
    "            *[\n",
    "                (date, station)\n",
    "                for date, stations in plot_stations.items()\n",
    "                for station in stations\n",
    "            ]\n",
    "        ),\n",
    "    )\n",
    ")\n",
    "\n",
    "with mp.Pool(processes=mp.cpu_count()) as pool:\n",
    "    results = pool.starmap(\n",
    "        process_derivatives,\n",
    "        arguments,\n",
    "    )"
   ]
  },
  {
   "cell_type": "code",
   "execution_count": 15,
   "id": "1a2f3d41",
   "metadata": {},
   "outputs": [
    {
     "data": {
      "application/vnd.microsoft.datawrangler.viewer.v0+json": {
       "columns": [
        {
         "name": "index",
         "rawType": "int64",
         "type": "integer"
        },
        {
         "name": "date",
         "rawType": "object",
         "type": "string"
        },
        {
         "name": "station",
         "rawType": "object",
         "type": "string"
        },
        {
         "name": "metric",
         "rawType": "object",
         "type": "string"
        },
        {
         "name": "index",
         "rawType": "datetime64[ns]",
         "type": "datetime"
        },
        {
         "name": "event",
         "rawType": "object",
         "type": "string"
        }
       ],
       "ref": "d5ac7b7c-6678-41d0-807f-f28af2e34e47",
       "rows": [
        [
         "0",
         "2023-04-23",
         "AATB",
         "entropy",
         "2023-04-23 01:05:00",
         "Forbush Decrease"
        ],
        [
         "1",
         "2023-04-23",
         "AATB",
         "sampen",
         "2023-04-23 07:26:00",
         "Forbush Decrease"
        ],
        [
         "2",
         "2023-04-23",
         "AATB",
         "permutation_entropy",
         "2023-04-23 20:51:00",
         "Forbush Decrease"
        ],
        [
         "3",
         "2023-04-23",
         "AATB",
         "shannon_entropy",
         "2023-04-23 02:20:00",
         "Forbush Decrease"
        ],
        [
         "4",
         "2023-04-23",
         "AATB",
         "spectral_entropy",
         "2023-04-23 17:01:00",
         "Forbush Decrease"
        ],
        [
         "5",
         "2023-04-23",
         "AATB",
         "app_entropy",
         "2023-04-24 04:20:00",
         "Forbush Decrease"
        ],
        [
         "6",
         "2023-04-23",
         "AATB",
         "hurst",
         "2023-04-23 04:06:00",
         "Forbush Decrease"
        ],
        [
         "7",
         "2023-04-23",
         "AATB",
         "dfa",
         "2023-04-23 14:48:00",
         "Forbush Decrease"
        ],
        [
         "8",
         "2023-04-23",
         "AATB",
         "mfhurst_b",
         "2023-04-23 02:25:00",
         "Forbush Decrease"
        ],
        [
         "9",
         "2023-04-23",
         "AATB",
         "higuchi_fd",
         "2023-04-23 19:16:00",
         "Forbush Decrease"
        ],
        [
         "10",
         "2023-04-23",
         "AATB",
         "katz_fd",
         "2023-04-23 07:40:00",
         "Forbush Decrease"
        ],
        [
         "11",
         "2023-04-23",
         "AATB",
         "petrosian_fd",
         "2023-04-23 18:35:00",
         "Forbush Decrease"
        ],
        [
         "12",
         "2023-04-23",
         "AATB",
         "lepel_ziv",
         "2023-04-23 01:51:00",
         "Forbush Decrease"
        ],
        [
         "13",
         "2023-04-23",
         "AATB",
         "corr_dim",
         "2023-04-23 14:24:00",
         "Forbush Decrease"
        ],
        [
         "14",
         "2023-04-23",
         "AATB",
         "value",
         "2023-04-23 18:35:00",
         "Forbush Decrease"
        ],
        [
         "15",
         "2023-04-23",
         "IRK2",
         "entropy",
         "2023-04-23 01:05:00",
         "Forbush Decrease"
        ],
        [
         "16",
         "2023-04-23",
         "IRK2",
         "sampen",
         "2023-04-23 20:01:00",
         "Forbush Decrease"
        ],
        [
         "17",
         "2023-04-23",
         "IRK2",
         "permutation_entropy",
         "2023-04-24 01:19:00",
         "Forbush Decrease"
        ],
        [
         "18",
         "2023-04-23",
         "IRK2",
         "shannon_entropy",
         "2023-04-23 18:49:00",
         "Forbush Decrease"
        ],
        [
         "19",
         "2023-04-23",
         "IRK2",
         "spectral_entropy",
         "2023-04-23 22:21:00",
         "Forbush Decrease"
        ],
        [
         "20",
         "2023-04-23",
         "IRK2",
         "app_entropy",
         "2023-04-23 18:47:00",
         "Forbush Decrease"
        ],
        [
         "21",
         "2023-04-23",
         "IRK2",
         "hurst",
         "2023-04-24 01:23:00",
         "Forbush Decrease"
        ],
        [
         "22",
         "2023-04-23",
         "IRK2",
         "dfa",
         "2023-04-24 03:05:00",
         "Forbush Decrease"
        ],
        [
         "23",
         "2023-04-23",
         "IRK2",
         "mfhurst_b",
         "2023-04-23 01:07:00",
         "Forbush Decrease"
        ],
        [
         "24",
         "2023-04-23",
         "IRK2",
         "higuchi_fd",
         "2023-04-23 13:36:00",
         "Forbush Decrease"
        ],
        [
         "25",
         "2023-04-23",
         "IRK2",
         "katz_fd",
         "2023-04-23 13:42:00",
         "Forbush Decrease"
        ],
        [
         "26",
         "2023-04-23",
         "IRK2",
         "petrosian_fd",
         "2023-04-24 04:41:00",
         "Forbush Decrease"
        ],
        [
         "27",
         "2023-04-23",
         "IRK2",
         "lepel_ziv",
         "2023-04-23 02:08:00",
         "Forbush Decrease"
        ],
        [
         "28",
         "2023-04-23",
         "IRK2",
         "corr_dim",
         "2023-04-23 06:12:00",
         "Forbush Decrease"
        ],
        [
         "29",
         "2023-04-23",
         "IRK2",
         "value",
         "2023-04-23 21:26:00",
         "Forbush Decrease"
        ],
        [
         "30",
         "2023-04-23",
         "MXCO",
         "entropy",
         "2023-04-23 01:05:00",
         "Forbush Decrease"
        ],
        [
         "31",
         "2023-04-23",
         "MXCO",
         "sampen",
         "2023-04-23 12:52:00",
         "Forbush Decrease"
        ],
        [
         "32",
         "2023-04-23",
         "MXCO",
         "permutation_entropy",
         "2023-04-24 01:00:00",
         "Forbush Decrease"
        ],
        [
         "33",
         "2023-04-23",
         "MXCO",
         "shannon_entropy",
         "2023-04-24 05:32:00",
         "Forbush Decrease"
        ],
        [
         "34",
         "2023-04-23",
         "MXCO",
         "spectral_entropy",
         "2023-04-23 10:41:00",
         "Forbush Decrease"
        ],
        [
         "35",
         "2023-04-23",
         "MXCO",
         "app_entropy",
         "2023-04-23 06:57:00",
         "Forbush Decrease"
        ],
        [
         "36",
         "2023-04-23",
         "MXCO",
         "hurst",
         "2023-04-23 22:25:00",
         "Forbush Decrease"
        ],
        [
         "37",
         "2023-04-23",
         "MXCO",
         "dfa",
         "2023-04-24 04:34:00",
         "Forbush Decrease"
        ],
        [
         "38",
         "2023-04-23",
         "MXCO",
         "mfhurst_b",
         "2023-04-23 06:59:00",
         "Forbush Decrease"
        ],
        [
         "39",
         "2023-04-23",
         "MXCO",
         "higuchi_fd",
         "2023-04-23 07:23:00",
         "Forbush Decrease"
        ],
        [
         "40",
         "2023-04-23",
         "MXCO",
         "katz_fd",
         "2023-04-23 06:37:00",
         "Forbush Decrease"
        ],
        [
         "41",
         "2023-04-23",
         "MXCO",
         "petrosian_fd",
         "2023-04-23 01:07:00",
         "Forbush Decrease"
        ],
        [
         "42",
         "2023-04-23",
         "MXCO",
         "lepel_ziv",
         "2023-04-23 01:17:00",
         "Forbush Decrease"
        ],
        [
         "43",
         "2023-04-23",
         "MXCO",
         "corr_dim",
         "2023-04-23 02:21:00",
         "Forbush Decrease"
        ],
        [
         "44",
         "2023-04-23",
         "MXCO",
         "value",
         "2023-04-23 02:32:00",
         "Forbush Decrease"
        ],
        [
         "45",
         "2023-04-23",
         "LMKS",
         "entropy",
         "2023-04-23 01:05:00",
         "Forbush Decrease"
        ],
        [
         "46",
         "2023-04-23",
         "LMKS",
         "sampen",
         "2023-04-23 03:38:00",
         "Forbush Decrease"
        ],
        [
         "47",
         "2023-04-23",
         "LMKS",
         "permutation_entropy",
         "2023-04-24 01:31:00",
         "Forbush Decrease"
        ],
        [
         "48",
         "2023-04-23",
         "LMKS",
         "shannon_entropy",
         "2023-04-23 01:19:00",
         "Forbush Decrease"
        ],
        [
         "49",
         "2023-04-23",
         "LMKS",
         "spectral_entropy",
         "2023-04-23 22:59:00",
         "Forbush Decrease"
        ]
       ],
       "shape": {
        "columns": 5,
        "rows": 480
       }
      },
      "text/html": [
       "<div>\n",
       "<style scoped>\n",
       "    .dataframe tbody tr th:only-of-type {\n",
       "        vertical-align: middle;\n",
       "    }\n",
       "\n",
       "    .dataframe tbody tr th {\n",
       "        vertical-align: top;\n",
       "    }\n",
       "\n",
       "    .dataframe thead th {\n",
       "        text-align: right;\n",
       "    }\n",
       "</style>\n",
       "<table border=\"1\" class=\"dataframe\">\n",
       "  <thead>\n",
       "    <tr style=\"text-align: right;\">\n",
       "      <th></th>\n",
       "      <th>date</th>\n",
       "      <th>station</th>\n",
       "      <th>metric</th>\n",
       "      <th>index</th>\n",
       "      <th>event</th>\n",
       "    </tr>\n",
       "  </thead>\n",
       "  <tbody>\n",
       "    <tr>\n",
       "      <th>0</th>\n",
       "      <td>2023-04-23</td>\n",
       "      <td>AATB</td>\n",
       "      <td>entropy</td>\n",
       "      <td>2023-04-23 01:05:00</td>\n",
       "      <td>Forbush Decrease</td>\n",
       "    </tr>\n",
       "    <tr>\n",
       "      <th>1</th>\n",
       "      <td>2023-04-23</td>\n",
       "      <td>AATB</td>\n",
       "      <td>sampen</td>\n",
       "      <td>2023-04-23 07:26:00</td>\n",
       "      <td>Forbush Decrease</td>\n",
       "    </tr>\n",
       "    <tr>\n",
       "      <th>2</th>\n",
       "      <td>2023-04-23</td>\n",
       "      <td>AATB</td>\n",
       "      <td>permutation_entropy</td>\n",
       "      <td>2023-04-23 20:51:00</td>\n",
       "      <td>Forbush Decrease</td>\n",
       "    </tr>\n",
       "    <tr>\n",
       "      <th>3</th>\n",
       "      <td>2023-04-23</td>\n",
       "      <td>AATB</td>\n",
       "      <td>shannon_entropy</td>\n",
       "      <td>2023-04-23 02:20:00</td>\n",
       "      <td>Forbush Decrease</td>\n",
       "    </tr>\n",
       "    <tr>\n",
       "      <th>4</th>\n",
       "      <td>2023-04-23</td>\n",
       "      <td>AATB</td>\n",
       "      <td>spectral_entropy</td>\n",
       "      <td>2023-04-23 17:01:00</td>\n",
       "      <td>Forbush Decrease</td>\n",
       "    </tr>\n",
       "    <tr>\n",
       "      <th>...</th>\n",
       "      <td>...</td>\n",
       "      <td>...</td>\n",
       "      <td>...</td>\n",
       "      <td>...</td>\n",
       "      <td>...</td>\n",
       "    </tr>\n",
       "    <tr>\n",
       "      <th>475</th>\n",
       "      <td>2024-05-10</td>\n",
       "      <td>IRK3</td>\n",
       "      <td>katz_fd</td>\n",
       "      <td>2024-05-10 12:52:00</td>\n",
       "      <td>Forbush Decrease</td>\n",
       "    </tr>\n",
       "    <tr>\n",
       "      <th>476</th>\n",
       "      <td>2024-05-10</td>\n",
       "      <td>IRK3</td>\n",
       "      <td>petrosian_fd</td>\n",
       "      <td>2024-05-10 22:03:00</td>\n",
       "      <td>Forbush Decrease</td>\n",
       "    </tr>\n",
       "    <tr>\n",
       "      <th>477</th>\n",
       "      <td>2024-05-10</td>\n",
       "      <td>IRK3</td>\n",
       "      <td>lepel_ziv</td>\n",
       "      <td>2024-05-10 10:41:00</td>\n",
       "      <td>Forbush Decrease</td>\n",
       "    </tr>\n",
       "    <tr>\n",
       "      <th>478</th>\n",
       "      <td>2024-05-10</td>\n",
       "      <td>IRK3</td>\n",
       "      <td>corr_dim</td>\n",
       "      <td>2024-05-10 13:55:00</td>\n",
       "      <td>Forbush Decrease</td>\n",
       "    </tr>\n",
       "    <tr>\n",
       "      <th>479</th>\n",
       "      <td>2024-05-10</td>\n",
       "      <td>IRK3</td>\n",
       "      <td>value</td>\n",
       "      <td>2024-05-10 11:47:00</td>\n",
       "      <td>Forbush Decrease</td>\n",
       "    </tr>\n",
       "  </tbody>\n",
       "</table>\n",
       "<p>480 rows × 5 columns</p>\n",
       "</div>"
      ],
      "text/plain": [
       "           date station               metric               index  \\\n",
       "0    2023-04-23    AATB              entropy 2023-04-23 01:05:00   \n",
       "1    2023-04-23    AATB               sampen 2023-04-23 07:26:00   \n",
       "2    2023-04-23    AATB  permutation_entropy 2023-04-23 20:51:00   \n",
       "3    2023-04-23    AATB      shannon_entropy 2023-04-23 02:20:00   \n",
       "4    2023-04-23    AATB     spectral_entropy 2023-04-23 17:01:00   \n",
       "..          ...     ...                  ...                 ...   \n",
       "475  2024-05-10    IRK3              katz_fd 2024-05-10 12:52:00   \n",
       "476  2024-05-10    IRK3         petrosian_fd 2024-05-10 22:03:00   \n",
       "477  2024-05-10    IRK3            lepel_ziv 2024-05-10 10:41:00   \n",
       "478  2024-05-10    IRK3             corr_dim 2024-05-10 13:55:00   \n",
       "479  2024-05-10    IRK3                value 2024-05-10 11:47:00   \n",
       "\n",
       "                event  \n",
       "0    Forbush Decrease  \n",
       "1    Forbush Decrease  \n",
       "2    Forbush Decrease  \n",
       "3    Forbush Decrease  \n",
       "4    Forbush Decrease  \n",
       "..                ...  \n",
       "475  Forbush Decrease  \n",
       "476  Forbush Decrease  \n",
       "477  Forbush Decrease  \n",
       "478  Forbush Decrease  \n",
       "479  Forbush Decrease  \n",
       "\n",
       "[480 rows x 5 columns]"
      ]
     },
     "execution_count": 15,
     "metadata": {},
     "output_type": "execute_result"
    }
   ],
   "source": [
    "df = pd.DataFrame(columns=[\"date\", \"station\", \"metric\", \"index\"])\n",
    "for res in results:\n",
    "    df = pd.concat([df, pd.DataFrame(res)], ignore_index=True)\n",
    "\n",
    "df[\"index\"] = pd.to_datetime(df[\"index\"])\n",
    "df"
   ]
  },
  {
   "cell_type": "code",
   "execution_count": 20,
   "id": "2624163e",
   "metadata": {},
   "outputs": [],
   "source": [
    "suffix = f\"-ewm_alpha_{EWM_ALPHA}\" if EWM_ALPHA and EWM else \"\"\n",
    "df.to_csv(\n",
    "    f\"./data/{event_replace}/summary_derivatives{suffix}.csv\",\n",
    "    index=False,\n",
    ")"
   ]
  },
  {
   "cell_type": "markdown",
   "id": "d7424e18",
   "metadata": {},
   "source": [
    "## Trying to see the results"
   ]
  },
  {
   "cell_type": "code",
   "execution_count": 21,
   "id": "9d63a366",
   "metadata": {},
   "outputs": [
    {
     "data": {
      "application/vnd.microsoft.datawrangler.viewer.v0+json": {
       "columns": [
        {
         "name": "index",
         "rawType": "int64",
         "type": "integer"
        },
        {
         "name": "date",
         "rawType": "object",
         "type": "string"
        },
        {
         "name": "station",
         "rawType": "object",
         "type": "string"
        },
        {
         "name": "metric",
         "rawType": "object",
         "type": "string"
        },
        {
         "name": "index",
         "rawType": "datetime64[ns]",
         "type": "datetime"
        },
        {
         "name": "event",
         "rawType": "object",
         "type": "string"
        }
       ],
       "ref": "ccd81e6f-d0d6-4ae2-b818-758cd64cf312",
       "rows": [
        [
         "0",
         "2023-04-23",
         "AATB",
         "entropy",
         "2023-04-23 01:05:00",
         "Forbush Decrease"
        ],
        [
         "1",
         "2023-04-23",
         "AATB",
         "sampen",
         "2023-04-23 07:26:00",
         "Forbush Decrease"
        ],
        [
         "2",
         "2023-04-23",
         "AATB",
         "permutation_entropy",
         "2023-04-23 20:51:00",
         "Forbush Decrease"
        ],
        [
         "3",
         "2023-04-23",
         "AATB",
         "shannon_entropy",
         "2023-04-23 02:20:00",
         "Forbush Decrease"
        ],
        [
         "4",
         "2023-04-23",
         "AATB",
         "spectral_entropy",
         "2023-04-23 17:01:00",
         "Forbush Decrease"
        ],
        [
         "5",
         "2023-04-23",
         "AATB",
         "app_entropy",
         "2023-04-24 04:20:00",
         "Forbush Decrease"
        ],
        [
         "6",
         "2023-04-23",
         "AATB",
         "hurst",
         "2023-04-23 04:06:00",
         "Forbush Decrease"
        ],
        [
         "7",
         "2023-04-23",
         "AATB",
         "dfa",
         "2023-04-23 14:48:00",
         "Forbush Decrease"
        ],
        [
         "8",
         "2023-04-23",
         "AATB",
         "mfhurst_b",
         "2023-04-23 02:25:00",
         "Forbush Decrease"
        ],
        [
         "9",
         "2023-04-23",
         "AATB",
         "higuchi_fd",
         "2023-04-23 19:16:00",
         "Forbush Decrease"
        ],
        [
         "10",
         "2023-04-23",
         "AATB",
         "katz_fd",
         "2023-04-23 07:40:00",
         "Forbush Decrease"
        ],
        [
         "11",
         "2023-04-23",
         "AATB",
         "petrosian_fd",
         "2023-04-23 18:35:00",
         "Forbush Decrease"
        ],
        [
         "12",
         "2023-04-23",
         "AATB",
         "lepel_ziv",
         "2023-04-23 01:51:00",
         "Forbush Decrease"
        ],
        [
         "13",
         "2023-04-23",
         "AATB",
         "corr_dim",
         "2023-04-23 14:24:00",
         "Forbush Decrease"
        ],
        [
         "14",
         "2023-04-23",
         "AATB",
         "value",
         "2023-04-23 18:35:00",
         "Forbush Decrease"
        ],
        [
         "15",
         "2023-04-23",
         "IRK2",
         "entropy",
         "2023-04-23 01:05:00",
         "Forbush Decrease"
        ],
        [
         "16",
         "2023-04-23",
         "IRK2",
         "sampen",
         "2023-04-23 20:01:00",
         "Forbush Decrease"
        ],
        [
         "17",
         "2023-04-23",
         "IRK2",
         "permutation_entropy",
         "2023-04-24 01:19:00",
         "Forbush Decrease"
        ],
        [
         "18",
         "2023-04-23",
         "IRK2",
         "shannon_entropy",
         "2023-04-23 18:49:00",
         "Forbush Decrease"
        ],
        [
         "19",
         "2023-04-23",
         "IRK2",
         "spectral_entropy",
         "2023-04-23 22:21:00",
         "Forbush Decrease"
        ],
        [
         "20",
         "2023-04-23",
         "IRK2",
         "app_entropy",
         "2023-04-23 18:47:00",
         "Forbush Decrease"
        ],
        [
         "21",
         "2023-04-23",
         "IRK2",
         "hurst",
         "2023-04-24 01:23:00",
         "Forbush Decrease"
        ],
        [
         "22",
         "2023-04-23",
         "IRK2",
         "dfa",
         "2023-04-24 03:05:00",
         "Forbush Decrease"
        ],
        [
         "23",
         "2023-04-23",
         "IRK2",
         "mfhurst_b",
         "2023-04-23 01:07:00",
         "Forbush Decrease"
        ],
        [
         "24",
         "2023-04-23",
         "IRK2",
         "higuchi_fd",
         "2023-04-23 13:36:00",
         "Forbush Decrease"
        ],
        [
         "25",
         "2023-04-23",
         "IRK2",
         "katz_fd",
         "2023-04-23 13:42:00",
         "Forbush Decrease"
        ],
        [
         "26",
         "2023-04-23",
         "IRK2",
         "petrosian_fd",
         "2023-04-24 04:41:00",
         "Forbush Decrease"
        ],
        [
         "27",
         "2023-04-23",
         "IRK2",
         "lepel_ziv",
         "2023-04-23 02:08:00",
         "Forbush Decrease"
        ],
        [
         "28",
         "2023-04-23",
         "IRK2",
         "corr_dim",
         "2023-04-23 06:12:00",
         "Forbush Decrease"
        ],
        [
         "29",
         "2023-04-23",
         "IRK2",
         "value",
         "2023-04-23 21:26:00",
         "Forbush Decrease"
        ],
        [
         "30",
         "2023-04-23",
         "MXCO",
         "entropy",
         "2023-04-23 01:05:00",
         "Forbush Decrease"
        ],
        [
         "31",
         "2023-04-23",
         "MXCO",
         "sampen",
         "2023-04-23 12:52:00",
         "Forbush Decrease"
        ],
        [
         "32",
         "2023-04-23",
         "MXCO",
         "permutation_entropy",
         "2023-04-24 01:00:00",
         "Forbush Decrease"
        ],
        [
         "33",
         "2023-04-23",
         "MXCO",
         "shannon_entropy",
         "2023-04-24 05:32:00",
         "Forbush Decrease"
        ],
        [
         "34",
         "2023-04-23",
         "MXCO",
         "spectral_entropy",
         "2023-04-23 10:41:00",
         "Forbush Decrease"
        ],
        [
         "35",
         "2023-04-23",
         "MXCO",
         "app_entropy",
         "2023-04-23 06:57:00",
         "Forbush Decrease"
        ],
        [
         "36",
         "2023-04-23",
         "MXCO",
         "hurst",
         "2023-04-23 22:25:00",
         "Forbush Decrease"
        ],
        [
         "37",
         "2023-04-23",
         "MXCO",
         "dfa",
         "2023-04-24 04:34:00",
         "Forbush Decrease"
        ],
        [
         "38",
         "2023-04-23",
         "MXCO",
         "mfhurst_b",
         "2023-04-23 06:59:00",
         "Forbush Decrease"
        ],
        [
         "39",
         "2023-04-23",
         "MXCO",
         "higuchi_fd",
         "2023-04-23 07:23:00",
         "Forbush Decrease"
        ],
        [
         "40",
         "2023-04-23",
         "MXCO",
         "katz_fd",
         "2023-04-23 06:37:00",
         "Forbush Decrease"
        ],
        [
         "41",
         "2023-04-23",
         "MXCO",
         "petrosian_fd",
         "2023-04-23 01:07:00",
         "Forbush Decrease"
        ],
        [
         "42",
         "2023-04-23",
         "MXCO",
         "lepel_ziv",
         "2023-04-23 01:17:00",
         "Forbush Decrease"
        ],
        [
         "43",
         "2023-04-23",
         "MXCO",
         "corr_dim",
         "2023-04-23 02:21:00",
         "Forbush Decrease"
        ],
        [
         "44",
         "2023-04-23",
         "MXCO",
         "value",
         "2023-04-23 02:32:00",
         "Forbush Decrease"
        ],
        [
         "45",
         "2023-04-23",
         "LMKS",
         "entropy",
         "2023-04-23 01:05:00",
         "Forbush Decrease"
        ],
        [
         "46",
         "2023-04-23",
         "LMKS",
         "sampen",
         "2023-04-23 03:38:00",
         "Forbush Decrease"
        ],
        [
         "47",
         "2023-04-23",
         "LMKS",
         "permutation_entropy",
         "2023-04-24 01:31:00",
         "Forbush Decrease"
        ],
        [
         "48",
         "2023-04-23",
         "LMKS",
         "shannon_entropy",
         "2023-04-23 01:19:00",
         "Forbush Decrease"
        ],
        [
         "49",
         "2023-04-23",
         "LMKS",
         "spectral_entropy",
         "2023-04-23 22:59:00",
         "Forbush Decrease"
        ]
       ],
       "shape": {
        "columns": 5,
        "rows": 480
       }
      },
      "text/html": [
       "<div>\n",
       "<style scoped>\n",
       "    .dataframe tbody tr th:only-of-type {\n",
       "        vertical-align: middle;\n",
       "    }\n",
       "\n",
       "    .dataframe tbody tr th {\n",
       "        vertical-align: top;\n",
       "    }\n",
       "\n",
       "    .dataframe thead th {\n",
       "        text-align: right;\n",
       "    }\n",
       "</style>\n",
       "<table border=\"1\" class=\"dataframe\">\n",
       "  <thead>\n",
       "    <tr style=\"text-align: right;\">\n",
       "      <th></th>\n",
       "      <th>date</th>\n",
       "      <th>station</th>\n",
       "      <th>metric</th>\n",
       "      <th>index</th>\n",
       "      <th>event</th>\n",
       "    </tr>\n",
       "  </thead>\n",
       "  <tbody>\n",
       "    <tr>\n",
       "      <th>0</th>\n",
       "      <td>2023-04-23</td>\n",
       "      <td>AATB</td>\n",
       "      <td>entropy</td>\n",
       "      <td>2023-04-23 01:05:00</td>\n",
       "      <td>Forbush Decrease</td>\n",
       "    </tr>\n",
       "    <tr>\n",
       "      <th>1</th>\n",
       "      <td>2023-04-23</td>\n",
       "      <td>AATB</td>\n",
       "      <td>sampen</td>\n",
       "      <td>2023-04-23 07:26:00</td>\n",
       "      <td>Forbush Decrease</td>\n",
       "    </tr>\n",
       "    <tr>\n",
       "      <th>2</th>\n",
       "      <td>2023-04-23</td>\n",
       "      <td>AATB</td>\n",
       "      <td>permutation_entropy</td>\n",
       "      <td>2023-04-23 20:51:00</td>\n",
       "      <td>Forbush Decrease</td>\n",
       "    </tr>\n",
       "    <tr>\n",
       "      <th>3</th>\n",
       "      <td>2023-04-23</td>\n",
       "      <td>AATB</td>\n",
       "      <td>shannon_entropy</td>\n",
       "      <td>2023-04-23 02:20:00</td>\n",
       "      <td>Forbush Decrease</td>\n",
       "    </tr>\n",
       "    <tr>\n",
       "      <th>4</th>\n",
       "      <td>2023-04-23</td>\n",
       "      <td>AATB</td>\n",
       "      <td>spectral_entropy</td>\n",
       "      <td>2023-04-23 17:01:00</td>\n",
       "      <td>Forbush Decrease</td>\n",
       "    </tr>\n",
       "    <tr>\n",
       "      <th>...</th>\n",
       "      <td>...</td>\n",
       "      <td>...</td>\n",
       "      <td>...</td>\n",
       "      <td>...</td>\n",
       "      <td>...</td>\n",
       "    </tr>\n",
       "    <tr>\n",
       "      <th>475</th>\n",
       "      <td>2024-05-10</td>\n",
       "      <td>IRK3</td>\n",
       "      <td>katz_fd</td>\n",
       "      <td>2024-05-10 12:52:00</td>\n",
       "      <td>Forbush Decrease</td>\n",
       "    </tr>\n",
       "    <tr>\n",
       "      <th>476</th>\n",
       "      <td>2024-05-10</td>\n",
       "      <td>IRK3</td>\n",
       "      <td>petrosian_fd</td>\n",
       "      <td>2024-05-10 22:03:00</td>\n",
       "      <td>Forbush Decrease</td>\n",
       "    </tr>\n",
       "    <tr>\n",
       "      <th>477</th>\n",
       "      <td>2024-05-10</td>\n",
       "      <td>IRK3</td>\n",
       "      <td>lepel_ziv</td>\n",
       "      <td>2024-05-10 10:41:00</td>\n",
       "      <td>Forbush Decrease</td>\n",
       "    </tr>\n",
       "    <tr>\n",
       "      <th>478</th>\n",
       "      <td>2024-05-10</td>\n",
       "      <td>IRK3</td>\n",
       "      <td>corr_dim</td>\n",
       "      <td>2024-05-10 13:55:00</td>\n",
       "      <td>Forbush Decrease</td>\n",
       "    </tr>\n",
       "    <tr>\n",
       "      <th>479</th>\n",
       "      <td>2024-05-10</td>\n",
       "      <td>IRK3</td>\n",
       "      <td>value</td>\n",
       "      <td>2024-05-10 11:47:00</td>\n",
       "      <td>Forbush Decrease</td>\n",
       "    </tr>\n",
       "  </tbody>\n",
       "</table>\n",
       "<p>480 rows × 5 columns</p>\n",
       "</div>"
      ],
      "text/plain": [
       "           date station               metric               index  \\\n",
       "0    2023-04-23    AATB              entropy 2023-04-23 01:05:00   \n",
       "1    2023-04-23    AATB               sampen 2023-04-23 07:26:00   \n",
       "2    2023-04-23    AATB  permutation_entropy 2023-04-23 20:51:00   \n",
       "3    2023-04-23    AATB      shannon_entropy 2023-04-23 02:20:00   \n",
       "4    2023-04-23    AATB     spectral_entropy 2023-04-23 17:01:00   \n",
       "..          ...     ...                  ...                 ...   \n",
       "475  2024-05-10    IRK3              katz_fd 2024-05-10 12:52:00   \n",
       "476  2024-05-10    IRK3         petrosian_fd 2024-05-10 22:03:00   \n",
       "477  2024-05-10    IRK3            lepel_ziv 2024-05-10 10:41:00   \n",
       "478  2024-05-10    IRK3             corr_dim 2024-05-10 13:55:00   \n",
       "479  2024-05-10    IRK3                value 2024-05-10 11:47:00   \n",
       "\n",
       "                event  \n",
       "0    Forbush Decrease  \n",
       "1    Forbush Decrease  \n",
       "2    Forbush Decrease  \n",
       "3    Forbush Decrease  \n",
       "4    Forbush Decrease  \n",
       "..                ...  \n",
       "475  Forbush Decrease  \n",
       "476  Forbush Decrease  \n",
       "477  Forbush Decrease  \n",
       "478  Forbush Decrease  \n",
       "479  Forbush Decrease  \n",
       "\n",
       "[480 rows x 5 columns]"
      ]
     },
     "execution_count": 21,
     "metadata": {},
     "output_type": "execute_result"
    }
   ],
   "source": [
    "suffix = f\"-ewm_alpha_{EWM_ALPHA}\" if EWM_ALPHA and EWM else \"\"\n",
    "df = pd.read_csv(f\"./data/{event_replace}/summary_derivatives{suffix}.csv\")\n",
    "df[\"index\"] = pd.to_datetime(df[\"index\"])\n",
    "df"
   ]
  },
  {
   "cell_type": "code",
   "execution_count": 17,
   "id": "7dc52f10",
   "metadata": {},
   "outputs": [
    {
     "data": {
      "application/vnd.microsoft.datawrangler.viewer.v0+json": {
       "columns": [
        {
         "name": "index",
         "rawType": "int64",
         "type": "integer"
        },
        {
         "name": "date",
         "rawType": "object",
         "type": "string"
        },
        {
         "name": "station",
         "rawType": "object",
         "type": "string"
        },
        {
         "name": "metric",
         "rawType": "object",
         "type": "string"
        },
        {
         "name": "index",
         "rawType": "datetime64[ns]",
         "type": "datetime"
        },
        {
         "name": "event",
         "rawType": "object",
         "type": "string"
        }
       ],
       "ref": "86c58be1-e8e5-45d7-bf40-bead8f39f828",
       "rows": [
        [
         "0",
         "2023-04-23",
         "PWNK",
         "entropy",
         "2023-04-23 01:05:00",
         "Forbush Decrease"
        ],
        [
         "1",
         "2023-04-23",
         "PWNK",
         "sampen",
         "2023-04-23 09:27:00",
         "Forbush Decrease"
        ],
        [
         "2",
         "2023-04-23",
         "PWNK",
         "permutation_entropy",
         "2023-04-23 19:07:00",
         "Forbush Decrease"
        ],
        [
         "3",
         "2023-04-23",
         "PWNK",
         "shannon_entropy",
         "2023-04-23 08:11:00",
         "Forbush Decrease"
        ],
        [
         "4",
         "2023-04-23",
         "PWNK",
         "spectral_entropy",
         "2023-04-23 18:50:00",
         "Forbush Decrease"
        ],
        [
         "5",
         "2023-04-23",
         "PWNK",
         "app_entropy",
         "2023-04-23 16:56:00",
         "Forbush Decrease"
        ],
        [
         "6",
         "2023-04-23",
         "PWNK",
         "hurst",
         "2023-04-23 11:36:00",
         "Forbush Decrease"
        ],
        [
         "7",
         "2023-04-23",
         "PWNK",
         "dfa",
         "2023-04-23 03:49:00",
         "Forbush Decrease"
        ],
        [
         "8",
         "2023-04-23",
         "PWNK",
         "mfhurst_b",
         "2023-04-23 19:23:00",
         "Forbush Decrease"
        ],
        [
         "9",
         "2023-04-23",
         "PWNK",
         "higuchi_fd",
         "2023-04-23 08:07:00",
         "Forbush Decrease"
        ],
        [
         "10",
         "2023-04-23",
         "PWNK",
         "katz_fd",
         "2023-04-23 01:09:00",
         "Forbush Decrease"
        ],
        [
         "11",
         "2023-04-23",
         "PWNK",
         "petrosian_fd",
         "2023-04-23 20:16:00",
         "Forbush Decrease"
        ],
        [
         "12",
         "2023-04-23",
         "PWNK",
         "lepel_ziv",
         "2023-04-23 02:42:00",
         "Forbush Decrease"
        ],
        [
         "13",
         "2023-04-23",
         "PWNK",
         "corr_dim",
         "2023-04-23 04:10:00",
         "Forbush Decrease"
        ],
        [
         "14",
         "2023-04-23",
         "PWNK",
         "value",
         "2023-04-23 09:33:00",
         "Forbush Decrease"
        ]
       ],
       "shape": {
        "columns": 5,
        "rows": 15
       }
      },
      "text/html": [
       "<div>\n",
       "<style scoped>\n",
       "    .dataframe tbody tr th:only-of-type {\n",
       "        vertical-align: middle;\n",
       "    }\n",
       "\n",
       "    .dataframe tbody tr th {\n",
       "        vertical-align: top;\n",
       "    }\n",
       "\n",
       "    .dataframe thead th {\n",
       "        text-align: right;\n",
       "    }\n",
       "</style>\n",
       "<table border=\"1\" class=\"dataframe\">\n",
       "  <thead>\n",
       "    <tr style=\"text-align: right;\">\n",
       "      <th></th>\n",
       "      <th>date</th>\n",
       "      <th>station</th>\n",
       "      <th>metric</th>\n",
       "      <th>index</th>\n",
       "      <th>event</th>\n",
       "    </tr>\n",
       "  </thead>\n",
       "  <tbody>\n",
       "    <tr>\n",
       "      <th>0</th>\n",
       "      <td>2023-04-23</td>\n",
       "      <td>PWNK</td>\n",
       "      <td>entropy</td>\n",
       "      <td>2023-04-23 01:05:00</td>\n",
       "      <td>Forbush Decrease</td>\n",
       "    </tr>\n",
       "    <tr>\n",
       "      <th>1</th>\n",
       "      <td>2023-04-23</td>\n",
       "      <td>PWNK</td>\n",
       "      <td>sampen</td>\n",
       "      <td>2023-04-23 09:27:00</td>\n",
       "      <td>Forbush Decrease</td>\n",
       "    </tr>\n",
       "    <tr>\n",
       "      <th>2</th>\n",
       "      <td>2023-04-23</td>\n",
       "      <td>PWNK</td>\n",
       "      <td>permutation_entropy</td>\n",
       "      <td>2023-04-23 19:07:00</td>\n",
       "      <td>Forbush Decrease</td>\n",
       "    </tr>\n",
       "    <tr>\n",
       "      <th>3</th>\n",
       "      <td>2023-04-23</td>\n",
       "      <td>PWNK</td>\n",
       "      <td>shannon_entropy</td>\n",
       "      <td>2023-04-23 08:11:00</td>\n",
       "      <td>Forbush Decrease</td>\n",
       "    </tr>\n",
       "    <tr>\n",
       "      <th>4</th>\n",
       "      <td>2023-04-23</td>\n",
       "      <td>PWNK</td>\n",
       "      <td>spectral_entropy</td>\n",
       "      <td>2023-04-23 18:50:00</td>\n",
       "      <td>Forbush Decrease</td>\n",
       "    </tr>\n",
       "    <tr>\n",
       "      <th>5</th>\n",
       "      <td>2023-04-23</td>\n",
       "      <td>PWNK</td>\n",
       "      <td>app_entropy</td>\n",
       "      <td>2023-04-23 16:56:00</td>\n",
       "      <td>Forbush Decrease</td>\n",
       "    </tr>\n",
       "    <tr>\n",
       "      <th>6</th>\n",
       "      <td>2023-04-23</td>\n",
       "      <td>PWNK</td>\n",
       "      <td>hurst</td>\n",
       "      <td>2023-04-23 11:36:00</td>\n",
       "      <td>Forbush Decrease</td>\n",
       "    </tr>\n",
       "    <tr>\n",
       "      <th>7</th>\n",
       "      <td>2023-04-23</td>\n",
       "      <td>PWNK</td>\n",
       "      <td>dfa</td>\n",
       "      <td>2023-04-23 03:49:00</td>\n",
       "      <td>Forbush Decrease</td>\n",
       "    </tr>\n",
       "    <tr>\n",
       "      <th>8</th>\n",
       "      <td>2023-04-23</td>\n",
       "      <td>PWNK</td>\n",
       "      <td>mfhurst_b</td>\n",
       "      <td>2023-04-23 19:23:00</td>\n",
       "      <td>Forbush Decrease</td>\n",
       "    </tr>\n",
       "    <tr>\n",
       "      <th>9</th>\n",
       "      <td>2023-04-23</td>\n",
       "      <td>PWNK</td>\n",
       "      <td>higuchi_fd</td>\n",
       "      <td>2023-04-23 08:07:00</td>\n",
       "      <td>Forbush Decrease</td>\n",
       "    </tr>\n",
       "    <tr>\n",
       "      <th>10</th>\n",
       "      <td>2023-04-23</td>\n",
       "      <td>PWNK</td>\n",
       "      <td>katz_fd</td>\n",
       "      <td>2023-04-23 01:09:00</td>\n",
       "      <td>Forbush Decrease</td>\n",
       "    </tr>\n",
       "    <tr>\n",
       "      <th>11</th>\n",
       "      <td>2023-04-23</td>\n",
       "      <td>PWNK</td>\n",
       "      <td>petrosian_fd</td>\n",
       "      <td>2023-04-23 20:16:00</td>\n",
       "      <td>Forbush Decrease</td>\n",
       "    </tr>\n",
       "    <tr>\n",
       "      <th>12</th>\n",
       "      <td>2023-04-23</td>\n",
       "      <td>PWNK</td>\n",
       "      <td>lepel_ziv</td>\n",
       "      <td>2023-04-23 02:42:00</td>\n",
       "      <td>Forbush Decrease</td>\n",
       "    </tr>\n",
       "    <tr>\n",
       "      <th>13</th>\n",
       "      <td>2023-04-23</td>\n",
       "      <td>PWNK</td>\n",
       "      <td>corr_dim</td>\n",
       "      <td>2023-04-23 04:10:00</td>\n",
       "      <td>Forbush Decrease</td>\n",
       "    </tr>\n",
       "    <tr>\n",
       "      <th>14</th>\n",
       "      <td>2023-04-23</td>\n",
       "      <td>PWNK</td>\n",
       "      <td>value</td>\n",
       "      <td>2023-04-23 09:33:00</td>\n",
       "      <td>Forbush Decrease</td>\n",
       "    </tr>\n",
       "  </tbody>\n",
       "</table>\n",
       "</div>"
      ],
      "text/plain": [
       "          date station               metric               index  \\\n",
       "0   2023-04-23    PWNK              entropy 2023-04-23 01:05:00   \n",
       "1   2023-04-23    PWNK               sampen 2023-04-23 09:27:00   \n",
       "2   2023-04-23    PWNK  permutation_entropy 2023-04-23 19:07:00   \n",
       "3   2023-04-23    PWNK      shannon_entropy 2023-04-23 08:11:00   \n",
       "4   2023-04-23    PWNK     spectral_entropy 2023-04-23 18:50:00   \n",
       "5   2023-04-23    PWNK          app_entropy 2023-04-23 16:56:00   \n",
       "6   2023-04-23    PWNK                hurst 2023-04-23 11:36:00   \n",
       "7   2023-04-23    PWNK                  dfa 2023-04-23 03:49:00   \n",
       "8   2023-04-23    PWNK            mfhurst_b 2023-04-23 19:23:00   \n",
       "9   2023-04-23    PWNK           higuchi_fd 2023-04-23 08:07:00   \n",
       "10  2023-04-23    PWNK              katz_fd 2023-04-23 01:09:00   \n",
       "11  2023-04-23    PWNK         petrosian_fd 2023-04-23 20:16:00   \n",
       "12  2023-04-23    PWNK            lepel_ziv 2023-04-23 02:42:00   \n",
       "13  2023-04-23    PWNK             corr_dim 2023-04-23 04:10:00   \n",
       "14  2023-04-23    PWNK                value 2023-04-23 09:33:00   \n",
       "\n",
       "               event  \n",
       "0   Forbush Decrease  \n",
       "1   Forbush Decrease  \n",
       "2   Forbush Decrease  \n",
       "3   Forbush Decrease  \n",
       "4   Forbush Decrease  \n",
       "5   Forbush Decrease  \n",
       "6   Forbush Decrease  \n",
       "7   Forbush Decrease  \n",
       "8   Forbush Decrease  \n",
       "9   Forbush Decrease  \n",
       "10  Forbush Decrease  \n",
       "11  Forbush Decrease  \n",
       "12  Forbush Decrease  \n",
       "13  Forbush Decrease  \n",
       "14  Forbush Decrease  "
      ]
     },
     "execution_count": 17,
     "metadata": {},
     "output_type": "execute_result"
    }
   ],
   "source": [
    "# filter by a particular event\n",
    "date = \"2023-04-23\"\n",
    "station = \"PWNK\"\n",
    "\n",
    "df_event = df[(df[\"date\"] == date) & (df[\"station\"] == station)].reset_index(drop=True)\n",
    "df_event"
   ]
  },
  {
   "cell_type": "code",
   "execution_count": null,
   "id": "51588626",
   "metadata": {},
   "outputs": [],
   "source": []
  }
 ],
 "metadata": {
  "kernelspec": {
   "display_name": "nmdb",
   "language": "python",
   "name": "python3"
  },
  "language_info": {
   "codemirror_mode": {
    "name": "ipython",
    "version": 3
   },
   "file_extension": ".py",
   "mimetype": "text/x-python",
   "name": "python",
   "nbconvert_exporter": "python",
   "pygments_lexer": "ipython3",
   "version": "3.12.10"
  }
 },
 "nbformat": 4,
 "nbformat_minor": 5
}
